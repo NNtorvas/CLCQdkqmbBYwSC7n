{
 "cells": [
  {
   "attachments": {},
   "cell_type": "markdown",
   "metadata": {},
   "source": [
    "# Happy Customers Project"
   ]
  },
  {
   "attachments": {},
   "cell_type": "markdown",
   "metadata": {},
   "source": [
    "## Data Description:\n",
    "\n",
    "Y = target attribute (Y) with values indicating 0 (unhappy) and 1 (happy) customers <br/>\n",
    "X1 = my order was delivered on time <br/>\n",
    "X2 = contents of my order was as I expected <br/>\n",
    "X3 = I ordered everything I wanted to order <br/>\n",
    "X4 = I paid a good price for my order <br/>\n",
    "X5 = I am satisfied with my courier <br/>\n",
    "X6 = the app makes ordering easy for me <br/>\n",
    "\n",
    "Attributes X1 to X6 indicate the responses for each question and have values from 1 to 5 where the smaller number indicates less and the higher number indicates more towards the answer."
   ]
  },
  {
   "cell_type": "code",
   "execution_count": 28,
   "metadata": {},
   "outputs": [],
   "source": [
    "import pandas as pd\n",
    "import numpy as np\n",
    "from pandas_profiling import ProfileReport\n",
    "\n",
    "# load dataset\n",
    "data = pd.read_csv(\"Data/ACME-HappinessSurvey2020.csv\")"
   ]
  },
  {
   "cell_type": "code",
   "execution_count": 5,
   "metadata": {},
   "outputs": [
    {
     "data": {
      "application/vnd.jupyter.widget-view+json": {
       "model_id": "36c59a93be664cfd8ccf11658ae64987",
       "version_major": 2,
       "version_minor": 0
      },
      "text/plain": [
       "Summarize dataset:   0%|          | 0/5 [00:00<?, ?it/s]"
      ]
     },
     "metadata": {},
     "output_type": "display_data"
    },
    {
     "data": {
      "application/vnd.jupyter.widget-view+json": {
       "model_id": "780746a006764f6a9fc82ba93eaf6297",
       "version_major": 2,
       "version_minor": 0
      },
      "text/plain": [
       "Generate report structure:   0%|          | 0/1 [00:00<?, ?it/s]"
      ]
     },
     "metadata": {},
     "output_type": "display_data"
    },
    {
     "data": {
      "application/vnd.jupyter.widget-view+json": {
       "model_id": "f8db4afb82eb49f3a90545897e6834a3",
       "version_major": 2,
       "version_minor": 0
      },
      "text/plain": [
       "Render widgets:   0%|          | 0/1 [00:00<?, ?it/s]"
      ]
     },
     "metadata": {},
     "output_type": "display_data"
    },
    {
     "data": {
      "application/vnd.jupyter.widget-view+json": {
       "model_id": "7ca0ebd02aa145bbb516e4ff2e76897b",
       "version_major": 2,
       "version_minor": 0
      },
      "text/plain": [
       "VBox(children=(Tab(children=(Tab(children=(GridBox(children=(VBox(children=(GridspecLayout(children=(HTML(valu…"
      ]
     },
     "metadata": {},
     "output_type": "display_data"
    }
   ],
   "source": [
    "# perform EDA on the whole dataset to understand the data \n",
    "profile = ProfileReport(data)\n",
    "profile.to_widgets()"
   ]
  },
  {
   "cell_type": "code",
   "execution_count": null,
   "metadata": {},
   "outputs": [],
   "source": [
    "# create two dataset: one with the target variable and one with the features\n",
    "Y = data.iloc[:, 0]\n",
    "X = data.drop('Y', axis=1)"
   ]
  },
  {
   "cell_type": "code",
   "execution_count": 55,
   "metadata": {},
   "outputs": [
    {
     "name": "stdout",
     "output_type": "stream",
     "text": [
      "     p-value\n",
      "X1  0.001486\n",
      "X2  0.787313\n",
      "X3  0.091807\n",
      "X4  0.473623\n",
      "X5  0.011488\n",
      "X6  0.060568\n",
      "\n",
      "Top 4 Selected Features: ['X1', 'X3', 'X5', 'X6']\n"
     ]
    }
   ],
   "source": [
    "# ANOVA feature selection\n",
    "from sklearn.feature_selection import SelectKBest\n",
    "from sklearn.feature_selection import f_classif\n",
    "\n",
    "# define feature selection\n",
    "k = 4\n",
    "fs = SelectKBest(score_func=f_classif, k=k)\n",
    "\n",
    "# apply feature selection\n",
    "X_selected = fs.fit_transform(X, Y)\n",
    "X_selected = pd.DataFrame(X_selected)\n",
    "\n",
    "# print the pvalue of the features and the selected features\n",
    "pvalues = pd.DataFrame(fs.pvalues_, list(data.columns[1:]))\n",
    "pvalues.columns = ['p-value']\n",
    "print(pvalues)\n",
    "\n",
    "selectedFeatures = list(X.columns[ sorted(np.argsort(fs.pvalues_)[:-(k - 2)]) ])\n",
    "print(f'\\nTop {k} Selected Features: {selectedFeatures}') \n",
    "\n",
    "# take the indices of the selected features with: sorted(np.argsort(fs.pvalues_)[:-(k - 2)])"
   ]
  },
  {
   "cell_type": "code",
   "execution_count": 61,
   "metadata": {},
   "outputs": [],
   "source": [
    "from sklearn.model_selection import train_test_split\n",
    "\n",
    "X_train, X_test, y_train, y_test = train_test_split(X[selectedFeatures], Y, test_size=0.2, random_state=25)\n"
   ]
  }
 ],
 "metadata": {
  "kernelspec": {
   "display_name": "base",
   "language": "python",
   "name": "python3"
  },
  "language_info": {
   "codemirror_mode": {
    "name": "ipython",
    "version": 3
   },
   "file_extension": ".py",
   "mimetype": "text/x-python",
   "name": "python",
   "nbconvert_exporter": "python",
   "pygments_lexer": "ipython3",
   "version": "3.9.13"
  },
  "orig_nbformat": 4,
  "vscode": {
   "interpreter": {
    "hash": "7d5e04cb478149a6af31ca6f5e2d4f1ae295728d207584bbfabb5053485e7967"
   }
  }
 },
 "nbformat": 4,
 "nbformat_minor": 2
}
