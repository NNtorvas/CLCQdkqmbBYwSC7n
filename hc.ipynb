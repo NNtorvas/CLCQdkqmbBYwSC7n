{
 "cells": [
  {
   "attachments": {},
   "cell_type": "markdown",
   "metadata": {},
   "source": [
    "# Happy Customers Project"
   ]
  },
  {
   "attachments": {},
   "cell_type": "markdown",
   "metadata": {},
   "source": [
    "## Data Description:\n",
    "\n",
    "Y = target attribute (Y) with values indicating 0 (unhappy) and 1 (happy) customers <br/>\n",
    "X1 = my order was delivered on time <br/>\n",
    "X2 = contents of my order was as I expected <br/>\n",
    "X3 = I ordered everything I wanted to order <br/>\n",
    "X4 = I paid a good price for my order <br/>\n",
    "X5 = I am satisfied with my courier <br/>\n",
    "X6 = the app makes ordering easy for me <br/>\n",
    "\n",
    "Attributes X1 to X6 indicate the responses for each question and have values from 1 to 5 where the smaller number indicates less and the higher number indicates more towards the answer."
   ]
  },
  {
   "attachments": {},
   "cell_type": "markdown",
   "metadata": {},
   "source": [
    "### Load Libraries"
   ]
  },
  {
   "cell_type": "code",
   "execution_count": 1,
   "metadata": {},
   "outputs": [],
   "source": [
    "# useful libraries\n",
    "import warnings\n",
    "warnings.simplefilter(action='ignore', category=FutureWarning)\n",
    "import pandas as pd\n",
    "import numpy as np\n",
    "\n",
    "# EDA\n",
    "from pandas_profiling import ProfileReport\n",
    "\n",
    "# feature selection\n",
    "from sklearn.feature_selection import SelectKBest\n",
    "from sklearn.feature_selection import f_classif\n",
    "\n",
    "# train test split\n",
    "from sklearn.model_selection import train_test_split\n",
    "\n",
    "# model, hyperparameter search and scoring\n",
    "from xgboost import XGBClassifier\n",
    "from sklearn.model_selection import RandomizedSearchCV\n",
    "from sklearn.metrics import roc_auc_score"
   ]
  },
  {
   "attachments": {},
   "cell_type": "markdown",
   "metadata": {},
   "source": [
    "### Load Dataset and EDA"
   ]
  },
  {
   "cell_type": "code",
   "execution_count": 2,
   "metadata": {},
   "outputs": [
    {
     "name": "stdout",
     "output_type": "stream",
     "text": [
      "     Y  X1  X2  X3  X4  X5  X6\n",
      "0    0   3   3   3   4   2   4\n",
      "1    0   3   2   3   5   4   3\n",
      "2    1   5   3   3   3   3   5\n",
      "3    0   5   4   3   3   3   5\n",
      "4    0   5   4   3   3   3   5\n",
      "..  ..  ..  ..  ..  ..  ..  ..\n",
      "121  1   5   2   3   4   4   3\n",
      "122  1   5   2   3   4   2   5\n",
      "123  1   5   3   3   4   4   5\n",
      "124  0   4   3   3   4   4   5\n",
      "125  0   5   3   2   5   5   5\n",
      "\n",
      "[126 rows x 7 columns]\n"
     ]
    },
    {
     "data": {
      "application/vnd.jupyter.widget-view+json": {
       "model_id": "003dc36c90524aea86d110f4b4adc3e4",
       "version_major": 2,
       "version_minor": 0
      },
      "text/plain": [
       "Summarize dataset:   0%|          | 0/5 [00:00<?, ?it/s]"
      ]
     },
     "metadata": {},
     "output_type": "display_data"
    },
    {
     "data": {
      "application/vnd.jupyter.widget-view+json": {
       "model_id": "d0fb1cba800e43298744b44d27c15953",
       "version_major": 2,
       "version_minor": 0
      },
      "text/plain": [
       "Generate report structure:   0%|          | 0/1 [00:00<?, ?it/s]"
      ]
     },
     "metadata": {},
     "output_type": "display_data"
    },
    {
     "data": {
      "application/vnd.jupyter.widget-view+json": {
       "model_id": "5ce08c43812d4664a17974d141d0bd31",
       "version_major": 2,
       "version_minor": 0
      },
      "text/plain": [
       "Render widgets:   0%|          | 0/1 [00:00<?, ?it/s]"
      ]
     },
     "metadata": {},
     "output_type": "display_data"
    },
    {
     "data": {
      "application/vnd.jupyter.widget-view+json": {
       "model_id": "79af0a66fae247eea032cdff1cc51640",
       "version_major": 2,
       "version_minor": 0
      },
      "text/plain": [
       "VBox(children=(Tab(children=(Tab(children=(GridBox(children=(VBox(children=(GridspecLayout(children=(HTML(valu…"
      ]
     },
     "metadata": {},
     "output_type": "display_data"
    }
   ],
   "source": [
    "# load dataset\n",
    "data = pd.read_csv(\"Data/ACME-HappinessSurvey2020.csv\")\n",
    "print(data)\n",
    "\n",
    "# perform EDA on the whole dataset to understand the data \n",
    "profile = ProfileReport(data)\n",
    "profile.to_widgets()"
   ]
  },
  {
   "attachments": {},
   "cell_type": "markdown",
   "metadata": {},
   "source": [
    "### Feature Selection"
   ]
  },
  {
   "cell_type": "code",
   "execution_count": 3,
   "metadata": {},
   "outputs": [
    {
     "name": "stdout",
     "output_type": "stream",
     "text": [
      "     p-value\n",
      "X1  0.001486\n",
      "X2  0.787313\n",
      "X3  0.091807\n",
      "X4  0.473623\n",
      "X5  0.011488\n",
      "X6  0.060568\n",
      "\n",
      "Top 4 Selected Features: ['X1', 'X3', 'X5', 'X6']\n"
     ]
    }
   ],
   "source": [
    "# create two dataset: one with the target variable and one with the features\n",
    "Y = data.iloc[:, 0]\n",
    "X = data.drop('Y', axis=1)\n",
    "\n",
    "# define feature selection\n",
    "k = 4\n",
    "fs = SelectKBest(score_func=f_classif, k=k)\n",
    "\n",
    "# apply feature selection\n",
    "X_selected = fs.fit_transform(X, Y)\n",
    "X_selected = pd.DataFrame(X_selected)\n",
    "\n",
    "# print the pvalue of the features and the selected features\n",
    "pvalues = pd.DataFrame(fs.pvalues_, list(X.columns))\n",
    "pvalues.columns = ['p-value']\n",
    "print(pvalues)\n",
    "\n",
    "selectedFeatures = list(X.columns[ sorted(np.argsort(fs.pvalues_)[:k]) ])\n",
    "print(f'\\nTop {k} Selected Features: {selectedFeatures}') \n",
    "\n",
    "# take the indices of the selected features with: sorted(np.argsort(fs.pvalues_)[:-(k - 2)])"
   ]
  },
  {
   "attachments": {},
   "cell_type": "markdown",
   "metadata": {},
   "source": [
    "### Hyperparameter tuning of our model"
   ]
  },
  {
   "cell_type": "code",
   "execution_count": 4,
   "metadata": {},
   "outputs": [
    {
     "name": "stdout",
     "output_type": "stream",
     "text": [
      "Fitting 5 folds for each of 80 candidates, totalling 400 fits\n"
     ]
    },
    {
     "data": {
      "text/plain": [
       "RandomizedSearchCV(estimator=XGBClassifier(base_score=None, booster=None,\n",
       "                                           colsample_bylevel=None,\n",
       "                                           colsample_bynode=None,\n",
       "                                           colsample_bytree=None,\n",
       "                                           enable_categorical=False,\n",
       "                                           eval_metric='auc', gamma=None,\n",
       "                                           gpu_id=None, importance_type=None,\n",
       "                                           interaction_constraints=None,\n",
       "                                           learning_rate=None,\n",
       "                                           max_delta_step=None, max_depth=None,\n",
       "                                           min_child_weight=None, missing=nan,\n",
       "                                           monoton...\n",
       "                                        'gamma': array([ 1,  3,  5,  7,  9, 11, 13, 15, 17, 19]),\n",
       "                                        'learning_rate': [0.001, 0.01, 0.05,\n",
       "                                                          0.1, 0.2],\n",
       "                                        'max_depth': array([ 5, 10, 15, 20, 25]),\n",
       "                                        'min_child_weight': array([ 1,  3,  5,  7,  9, 11, 13, 15, 17, 19]),\n",
       "                                        'n_estimators': [100, 200, 300, 400,\n",
       "                                                         600],\n",
       "                                        'subsample': array([0.2 , 0.22, 0.24, 0.26, 0.28, 0.3 , 0.32, 0.34, 0.36, 0.38, 0.4 ,\n",
       "       0.42, 0.44, 0.46, 0.48])},\n",
       "                   scoring=<function my_roc_auc_score at 0x0000027B632BF040>,\n",
       "                   verbose=1)"
      ]
     },
     "execution_count": 4,
     "metadata": {},
     "output_type": "execute_result"
    }
   ],
   "source": [
    "# split the dataset into train test\n",
    "X_train, X_test, y_train, y_test = train_test_split(X[selectedFeatures], Y, test_size=0.2, random_state=25)\n",
    "\n",
    "# \n",
    "def my_roc_auc_score(model, X, y): return roc_auc_score(y, model.predict_proba(X)[:,1])\n",
    "\n",
    "# search space for our parameters\n",
    "\n",
    "params = { 'learning_rate': [0.001, 0.01, 0.05, 0.1, 0.2],\n",
    "           'subsample': np.arange(0.2, 0.5, 0.02),\n",
    "           'min_child_weight': np.arange(1, 20, 2),\n",
    "           'gamma': np.arange(1, 20, 2),\n",
    "           'max_depth': np.arange(5, 30, 5),\n",
    "           'colsample_bytree': np.arange(0.1, 0.5, 0.02),\n",
    "           'n_estimators': [100, 200, 300, 400, 600]}\n",
    "\n",
    "# create model\n",
    "xgbr = XGBClassifier(use_label_encoder = False,\n",
    "                     objective= 'binary:logistic',\n",
    "                     tree_method = 'hist',\n",
    "                     eval_metric = 'auc')\n",
    "\n",
    "# create randomized search\n",
    "clf = RandomizedSearchCV(estimator=xgbr,\n",
    "                         param_distributions=params,\n",
    "                         scoring = my_roc_auc_score,\n",
    "                         n_iter=80,\n",
    "                         verbose=1)\n",
    "\n",
    "# fit model to find best hyperparameters\n",
    "clf.fit(X_train, y_train)"
   ]
  },
  {
   "attachments": {},
   "cell_type": "markdown",
   "metadata": {},
   "source": [
    "### Results of hyperparameter tuning"
   ]
  },
  {
   "cell_type": "code",
   "execution_count": 5,
   "metadata": {},
   "outputs": [
    {
     "data": {
      "text/html": [
       "<div>\n",
       "<style scoped>\n",
       "    .dataframe tbody tr th:only-of-type {\n",
       "        vertical-align: middle;\n",
       "    }\n",
       "\n",
       "    .dataframe tbody tr th {\n",
       "        vertical-align: top;\n",
       "    }\n",
       "\n",
       "    .dataframe thead th {\n",
       "        text-align: right;\n",
       "    }\n",
       "</style>\n",
       "<table border=\"1\" class=\"dataframe\">\n",
       "  <thead>\n",
       "    <tr style=\"text-align: right;\">\n",
       "      <th></th>\n",
       "      <th>rank_test_score</th>\n",
       "      <th>mean_test_score</th>\n",
       "      <th>param_learning_rate</th>\n",
       "      <th>param_max_depth</th>\n",
       "      <th>param_n_estimators</th>\n",
       "      <th>param_subsample</th>\n",
       "      <th>param_colsample_bytree</th>\n",
       "      <th>param_min_child_weight</th>\n",
       "      <th>param_gamma</th>\n",
       "    </tr>\n",
       "  </thead>\n",
       "  <tbody>\n",
       "    <tr>\n",
       "      <th>71</th>\n",
       "      <td>1</td>\n",
       "      <td>0.728283</td>\n",
       "      <td>0.1</td>\n",
       "      <td>20</td>\n",
       "      <td>600</td>\n",
       "      <td>0.28</td>\n",
       "      <td>0.18</td>\n",
       "      <td>1</td>\n",
       "      <td>3</td>\n",
       "    </tr>\n",
       "    <tr>\n",
       "      <th>76</th>\n",
       "      <td>2</td>\n",
       "      <td>0.727273</td>\n",
       "      <td>0.05</td>\n",
       "      <td>5</td>\n",
       "      <td>300</td>\n",
       "      <td>0.26</td>\n",
       "      <td>0.48</td>\n",
       "      <td>1</td>\n",
       "      <td>7</td>\n",
       "    </tr>\n",
       "    <tr>\n",
       "      <th>78</th>\n",
       "      <td>3</td>\n",
       "      <td>0.719192</td>\n",
       "      <td>0.2</td>\n",
       "      <td>10</td>\n",
       "      <td>400</td>\n",
       "      <td>0.46</td>\n",
       "      <td>0.16</td>\n",
       "      <td>3</td>\n",
       "      <td>9</td>\n",
       "    </tr>\n",
       "    <tr>\n",
       "      <th>7</th>\n",
       "      <td>4</td>\n",
       "      <td>0.710101</td>\n",
       "      <td>0.05</td>\n",
       "      <td>5</td>\n",
       "      <td>300</td>\n",
       "      <td>0.42</td>\n",
       "      <td>0.4</td>\n",
       "      <td>3</td>\n",
       "      <td>7</td>\n",
       "    </tr>\n",
       "    <tr>\n",
       "      <th>12</th>\n",
       "      <td>5</td>\n",
       "      <td>0.707071</td>\n",
       "      <td>0.001</td>\n",
       "      <td>15</td>\n",
       "      <td>400</td>\n",
       "      <td>0.42</td>\n",
       "      <td>0.26</td>\n",
       "      <td>1</td>\n",
       "      <td>7</td>\n",
       "    </tr>\n",
       "    <tr>\n",
       "      <th>5</th>\n",
       "      <td>6</td>\n",
       "      <td>0.702020</td>\n",
       "      <td>0.01</td>\n",
       "      <td>10</td>\n",
       "      <td>200</td>\n",
       "      <td>0.44</td>\n",
       "      <td>0.1</td>\n",
       "      <td>1</td>\n",
       "      <td>7</td>\n",
       "    </tr>\n",
       "    <tr>\n",
       "      <th>21</th>\n",
       "      <td>7</td>\n",
       "      <td>0.685859</td>\n",
       "      <td>0.05</td>\n",
       "      <td>15</td>\n",
       "      <td>600</td>\n",
       "      <td>0.46</td>\n",
       "      <td>0.36</td>\n",
       "      <td>1</td>\n",
       "      <td>5</td>\n",
       "    </tr>\n",
       "    <tr>\n",
       "      <th>9</th>\n",
       "      <td>8</td>\n",
       "      <td>0.613131</td>\n",
       "      <td>0.2</td>\n",
       "      <td>5</td>\n",
       "      <td>300</td>\n",
       "      <td>0.4</td>\n",
       "      <td>0.48</td>\n",
       "      <td>1</td>\n",
       "      <td>13</td>\n",
       "    </tr>\n",
       "    <tr>\n",
       "      <th>0</th>\n",
       "      <td>9</td>\n",
       "      <td>0.500000</td>\n",
       "      <td>0.01</td>\n",
       "      <td>10</td>\n",
       "      <td>100</td>\n",
       "      <td>0.22</td>\n",
       "      <td>0.14</td>\n",
       "      <td>17</td>\n",
       "      <td>3</td>\n",
       "    </tr>\n",
       "    <tr>\n",
       "      <th>57</th>\n",
       "      <td>9</td>\n",
       "      <td>0.500000</td>\n",
       "      <td>0.1</td>\n",
       "      <td>15</td>\n",
       "      <td>400</td>\n",
       "      <td>0.24</td>\n",
       "      <td>0.26</td>\n",
       "      <td>5</td>\n",
       "      <td>11</td>\n",
       "    </tr>\n",
       "  </tbody>\n",
       "</table>\n",
       "</div>"
      ],
      "text/plain": [
       "    rank_test_score  mean_test_score param_learning_rate param_max_depth  \\\n",
       "71                1         0.728283                 0.1              20   \n",
       "76                2         0.727273                0.05               5   \n",
       "78                3         0.719192                 0.2              10   \n",
       "7                 4         0.710101                0.05               5   \n",
       "12                5         0.707071               0.001              15   \n",
       "5                 6         0.702020                0.01              10   \n",
       "21                7         0.685859                0.05              15   \n",
       "9                 8         0.613131                 0.2               5   \n",
       "0                 9         0.500000                0.01              10   \n",
       "57                9         0.500000                 0.1              15   \n",
       "\n",
       "   param_n_estimators param_subsample param_colsample_bytree  \\\n",
       "71                600            0.28                   0.18   \n",
       "76                300            0.26                   0.48   \n",
       "78                400            0.46                   0.16   \n",
       "7                 300            0.42                    0.4   \n",
       "12                400            0.42                   0.26   \n",
       "5                 200            0.44                    0.1   \n",
       "21                600            0.46                   0.36   \n",
       "9                 300             0.4                   0.48   \n",
       "0                 100            0.22                   0.14   \n",
       "57                400            0.24                   0.26   \n",
       "\n",
       "   param_min_child_weight param_gamma  \n",
       "71                      1           3  \n",
       "76                      1           7  \n",
       "78                      3           9  \n",
       "7                       3           7  \n",
       "12                      1           7  \n",
       "5                       1           7  \n",
       "21                      1           5  \n",
       "9                       1          13  \n",
       "0                      17           3  \n",
       "57                      5          11  "
      ]
     },
     "execution_count": 5,
     "metadata": {},
     "output_type": "execute_result"
    }
   ],
   "source": [
    "df_cv_results = pd.DataFrame(clf.cv_results_)\n",
    "df_cv_results = df_cv_results[[\"rank_test_score\",\"mean_test_score\",\n",
    "                               \"param_learning_rate\", \n",
    "                               \"param_max_depth\", \n",
    "                               \"param_n_estimators\", \n",
    "                               \"param_subsample\", \n",
    "                               \"param_colsample_bytree\", \n",
    "                               \"param_min_child_weight\", \n",
    "                               \"param_gamma\"]]\n",
    "df_cv_results.sort_values(by='rank_test_score', inplace=True)\n",
    "df_cv_results[:10]"
   ]
  },
  {
   "attachments": {},
   "cell_type": "markdown",
   "metadata": {},
   "source": [
    "### Final Model"
   ]
  },
  {
   "cell_type": "code",
   "execution_count": 9,
   "metadata": {},
   "outputs": [
    {
     "data": {
      "text/plain": [
       "XGBClassifier(base_score=0.5, booster='gbtree', colsample_bylevel=1,\n",
       "              colsample_bynode=1, colsample_bytree=0.18,\n",
       "              enable_categorical=False, eval_metric='auc', gamma=3, gpu_id=-1,\n",
       "              importance_type=None, interaction_constraints='',\n",
       "              learning_rate=0.1, max_delta_step=0, max_depth=20,\n",
       "              min_child_weight=1, missing=nan, monotone_constraints='()',\n",
       "              n_estimators=600, n_jobs=12, num_parallel_tree=1,\n",
       "              predictor='auto', random_state=0, reg_alpha=0, reg_lambda=1,\n",
       "              scale_pos_weight=1, subsample=0.28, tree_method='hist',\n",
       "              use_label_encoder=False, validate_parameters=1, verbosity=1)"
      ]
     },
     "execution_count": 9,
     "metadata": {},
     "output_type": "execute_result"
    }
   ],
   "source": [
    "model_xgboost_fin = XGBClassifier(objective= 'binary:logistic',\n",
    "\n",
    "                                  learning_rate=0.1,\n",
    "                                  max_depth=20,\n",
    "                                  n_estimators=600,\n",
    "                                  subsample=0.28,\n",
    "                                  colsample_bytree=0.18,\n",
    "                                  min_child_weight=1,\n",
    "                                  gamma = 3,\n",
    "\n",
    "                                  eval_metric='auc',\n",
    "                                  tree_method = 'hist',\n",
    "                                  verbosity=1,\n",
    "                                  use_label_encoder=False)\n",
    "\n",
    "\n",
    "\n",
    "model_xgboost_fin.fit(X_train,\n",
    "                      y_train,\n",
    "                      verbose=True)"
   ]
  },
  {
   "attachments": {},
   "cell_type": "markdown",
   "metadata": {},
   "source": [
    "### Train and Test scores"
   ]
  },
  {
   "cell_type": "code",
   "execution_count": 10,
   "metadata": {},
   "outputs": [
    {
     "name": "stdout",
     "output_type": "stream",
     "text": [
      "AUC Train: 0.7725\n",
      "AUC Test: 0.4018\n"
     ]
    }
   ],
   "source": [
    "y_train_pred = model_xgboost_fin.predict_proba(X_train)[:,1]\n",
    "y_test_pred = model_xgboost_fin.predict_proba(X_test)[:,1]\n",
    "\n",
    "print(\"AUC Train: {:.4f}\\nAUC Test: {:.4f}\".format(roc_auc_score(y_train, y_train_pred),\n",
    "                                                    roc_auc_score(y_test, y_test_pred)))"
   ]
  },
  {
   "attachments": {},
   "cell_type": "markdown",
   "metadata": {},
   "source": [
    "### Feature Importance"
   ]
  },
  {
   "cell_type": "code",
   "execution_count": 8,
   "metadata": {},
   "outputs": [
    {
     "data": {
      "text/html": [
       "<div>\n",
       "<style scoped>\n",
       "    .dataframe tbody tr th:only-of-type {\n",
       "        vertical-align: middle;\n",
       "    }\n",
       "\n",
       "    .dataframe tbody tr th {\n",
       "        vertical-align: top;\n",
       "    }\n",
       "\n",
       "    .dataframe thead th {\n",
       "        text-align: right;\n",
       "    }\n",
       "</style>\n",
       "<table border=\"1\" class=\"dataframe\">\n",
       "  <thead>\n",
       "    <tr style=\"text-align: right;\">\n",
       "      <th></th>\n",
       "      <th>Variable</th>\n",
       "      <th>Importance</th>\n",
       "    </tr>\n",
       "  </thead>\n",
       "  <tbody>\n",
       "    <tr>\n",
       "      <th>0</th>\n",
       "      <td>X1</td>\n",
       "      <td>0.531002</td>\n",
       "    </tr>\n",
       "    <tr>\n",
       "      <th>1</th>\n",
       "      <td>X3</td>\n",
       "      <td>0.166068</td>\n",
       "    </tr>\n",
       "    <tr>\n",
       "      <th>2</th>\n",
       "      <td>X5</td>\n",
       "      <td>0.164227</td>\n",
       "    </tr>\n",
       "    <tr>\n",
       "      <th>3</th>\n",
       "      <td>X6</td>\n",
       "      <td>0.138703</td>\n",
       "    </tr>\n",
       "  </tbody>\n",
       "</table>\n",
       "</div>"
      ],
      "text/plain": [
       "  Variable  Importance\n",
       "0       X1    0.531002\n",
       "1       X3    0.166068\n",
       "2       X5    0.164227\n",
       "3       X6    0.138703"
      ]
     },
     "execution_count": 8,
     "metadata": {},
     "output_type": "execute_result"
    }
   ],
   "source": [
    "df_var_imp = pd.DataFrame({\"Variable\": selectedFeatures,\n",
    "                           \"Importance\": model_xgboost_fin.feature_importances_}) \\\n",
    "                        .sort_values(by='Importance', ascending=False)\n",
    "df_var_imp"
   ]
  }
 ],
 "metadata": {
  "kernelspec": {
   "display_name": "base",
   "language": "python",
   "name": "python3"
  },
  "language_info": {
   "codemirror_mode": {
    "name": "ipython",
    "version": 3
   },
   "file_extension": ".py",
   "mimetype": "text/x-python",
   "name": "python",
   "nbconvert_exporter": "python",
   "pygments_lexer": "ipython3",
   "version": "3.9.13"
  },
  "orig_nbformat": 4,
  "vscode": {
   "interpreter": {
    "hash": "7d5e04cb478149a6af31ca6f5e2d4f1ae295728d207584bbfabb5053485e7967"
   }
  }
 },
 "nbformat": 4,
 "nbformat_minor": 2
}
